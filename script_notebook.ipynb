{
 "cells": [
  {
   "cell_type": "code",
   "execution_count": 14,
   "metadata": {},
   "outputs": [],
   "source": [
    "# %%\n",
    "import pandas as pd\n",
    "import weasyprint\n",
    "import webbrowser\n",
    "import datetime\n",
    "import os\n",
    "import yfinance as yf\n",
    "import math\n",
    "import matplotlib.pyplot as plt\n",
    "\n",
    "\n",
    "def highlight_values(x):\n",
    "\n",
    "    if isinstance(x, (int, float)):\n",
    "        if x < 0:\n",
    "            return 'color: red'\n",
    "        elif x >= 0:\n",
    "            return 'color: black'\n",
    "        else:\n",
    "            pass\n",
    "\n",
    "\n",
    "\n",
    "def scan_for_csv_files(directory):\n",
    "    \"\"\"Scans a directory for CSV files and returns their paths.\n",
    "\n",
    "    Args:\n",
    "        directory: The directory to scan.\n",
    "\n",
    "    Returns:\n",
    "        A list of paths to CSV files found in the directory.\n",
    "    \"\"\"\n",
    "\n",
    "    csv_files = []\n",
    "    for file in os.listdir(directory):\n",
    "        if file.endswith('.csv'):\n",
    "            csv_file_path = os.path.join(directory, file)\n",
    "            csv_files.append(csv_file_path)\n",
    "    return csv_files\n",
    "\n",
    "files = scan_for_csv_files(os.getcwd())\n",
    "count = 0\n",
    "\n",
    "def getData(ticker, key):\n",
    "    try:\n",
    "        x = str(ticker)\n",
    "        sym = \"\"\n",
    "        if (x[-1:]) == \".\":\n",
    "            sym += x + \"L\"\n",
    "        else:\n",
    "            sym += x + \".L\"\n",
    "        stock = yf.Ticker(sym)\n",
    "        stock= stock.info\n",
    "\n",
    "        return stock[key]\n",
    "\n",
    "    except:\n",
    "        pass\n",
    "\n",
    "\n",
    "def getSector(ticker):\n",
    "    x = getData(ticker, 'sector')\n",
    "    return x\n",
    "def getDividendYield(ticker):\n",
    "    x =getData(ticker, 'dividendYield')\n",
    "    if not x ==  None:\n",
    "        return (\"{:.2f}\".format(x*100))\n",
    "    else:\n",
    "        pass\n",
    "\n",
    "\n",
    "\n",
    "\n",
    "# for csv in files:\n",
    "\n",
    "\n",
    "\n",
    "df = pd.read_csv(\"shares.csv\")\n",
    "pd.set_option('display.width', 300)\n",
    "\n",
    "\n",
    "\n",
    "\n",
    "df.columns = df.columns.str.strip('\\ufeff')\n",
    "df['Qty'] = df['Qty'].astype('Int64').astype('string')\n",
    "\n",
    "df = df.drop(columns=['Day Gain/Loss', 'Day Gain/Loss %', 'Market Value £'])\n",
    "df[\"Gain/Loss %\"] = df[\"Gain/Loss %\"].str.rstrip(\"%\").astype('float')\n",
    "\n",
    "totals = df.tail(2)\n",
    "df.drop(df.tail(2).index,inplace=True)\n",
    "\n",
    "\n",
    "\n",
    "\n",
    "\n"
   ]
  },
  {
   "cell_type": "code",
   "execution_count": 15,
   "metadata": {},
   "outputs": [],
   "source": [
    "df['Sector'] = df['Symbol'].apply(getSector)"
   ]
  },
  {
   "cell_type": "code",
   "execution_count": 16,
   "metadata": {},
   "outputs": [],
   "source": [
    "df[\"Dividend Yield\"] = df['Symbol'].apply(getDividendYield)"
   ]
  },
  {
   "cell_type": "code",
   "execution_count": 17,
   "metadata": {},
   "outputs": [],
   "source": [
    "df = df.sort_values(by=\"Gain/Loss %\", ascending=False)"
   ]
  },
  {
   "cell_type": "code",
   "execution_count": 18,
   "metadata": {},
   "outputs": [],
   "source": [
    "result = pd.concat([df,totals])\n",
    "# result = result.fillna('')\n",
    "\n"
   ]
  },
  {
   "cell_type": "code",
   "execution_count": 19,
   "metadata": {},
   "outputs": [],
   "source": [
    "result['Market Value'] = result['Market Value'].str.replace('£', '')\n",
    "result['Market Value'] = result['Market Value'].str.replace(',', '')\n",
    "result['Market Value'] = result['Market Value'].astype('float')"
   ]
  },
  {
   "cell_type": "code",
   "execution_count": 20,
   "metadata": {},
   "outputs": [],
   "source": [
    "result['Gain/Loss']= result[\"Gain/Loss\"].str.replace('£', '')\n",
    "result['Gain/Loss']= pd.to_numeric(result[\"Gain/Loss\"].str.replace(',', '') ,errors='coerce')\n",
    "\n"
   ]
  },
  {
   "cell_type": "code",
   "execution_count": 21,
   "metadata": {},
   "outputs": [],
   "source": [
    "result['Gain/Loss %']= pd.to_numeric(result[\"Gain/Loss %\"],errors='coerce')"
   ]
  },
  {
   "cell_type": "code",
   "execution_count": 22,
   "metadata": {},
   "outputs": [],
   "source": [
    "result = result.reset_index(drop=True)\n",
    "result = result.fillna('')"
   ]
  },
  {
   "cell_type": "code",
   "execution_count": 23,
   "metadata": {},
   "outputs": [],
   "source": [
    "result['Gain/Loss'] = pd.to_numeric(result['Gain/Loss'], errors='coerce')\n",
    "result['Gain/Loss %'] = pd.to_numeric(result['Gain/Loss %'], errors='coerce')\n",
    "result['Market Value'] = pd.to_numeric(result['Market Value'], errors='coerce')"
   ]
  },
  {
   "cell_type": "code",
   "execution_count": 24,
   "metadata": {},
   "outputs": [
    {
     "name": "stderr",
     "output_type": "stream",
     "text": [
      "/tmp/ipykernel_17559/2824366532.py:20: FutureWarning: Styler.applymap has been deprecated. Use Styler.map instead.\n",
      "  }).applymap(highlight_values, subset=['Gain/Loss', 'Gain/Loss %'])\n"
     ]
    }
   ],
   "source": [
    "# Apply styling with proper formatting\n",
    "def custom_format(x, column_name=''):\n",
    "    if isinstance(x, str):\n",
    "        return x\n",
    "    elif pd.isna(x):  # Check if the value is NaN\n",
    "        return ''  # Return an empty string for NaN\n",
    "    elif isinstance(x, (int, float)):  # Check if it's a number\n",
    "        # Apply custom formatting for 'Gain/Loss' and 'Market Value'\n",
    "        if column_name == 'Gain/Loss' or column_name == 'Market Value':\n",
    "            return f'£{x:,.2f}'  # Format with comma separator and 2 decimal places\n",
    "        elif column_name == 'Gain/Loss %':\n",
    "            return f'{x:.2f}%'  # Format as percentage\n",
    "    return x  # Default return for other types\n",
    "\n",
    "# Apply styling with proper formatting using a conditional function\n",
    "styled = result.style.format({\n",
    "    'Gain/Loss': lambda x: custom_format(x, 'Gain/Loss'),\n",
    "    'Gain/Loss %': lambda x: custom_format(x, 'Gain/Loss %'),\n",
    "    'Market Value': lambda x: custom_format(x, 'Market Value'),\n",
    "    }).applymap(highlight_values, subset=['Gain/Loss', 'Gain/Loss %'])"
   ]
  },
  {
   "cell_type": "code",
   "execution_count": 25,
   "metadata": {},
   "outputs": [],
   "source": [
    "newdf = df\n",
    "newdf['Market Value'] = newdf['Market Value'].str.replace('£', '')\n",
    "newdf['Market Value'] = newdf['Market Value'].str.replace(',', '')\n",
    "newdf['Market Value'] = newdf['Market Value'].astype('float')"
   ]
  },
  {
   "cell_type": "code",
   "execution_count": 26,
   "metadata": {},
   "outputs": [],
   "source": [
    "\n",
    "sector_market_value = newdf.groupby('Sector')['Market Value'].sum()"
   ]
  },
  {
   "cell_type": "code",
   "execution_count": 27,
   "metadata": {},
   "outputs": [
    {
     "data": {
      "text/plain": [
       "Sector\n",
       "Basic Materials            1009.76\n",
       "Communication Services      722.57\n",
       "Consumer Cyclical         16360.70\n",
       "Consumer Defensive        11645.57\n",
       "Energy                     3689.80\n",
       "Financial Services         8569.29\n",
       "Healthcare                 1749.11\n",
       "Industrials               25117.65\n",
       "Technology                   20.53\n",
       "Utilities                  2922.69\n",
       "Name: Market Value, dtype: float64"
      ]
     },
     "execution_count": 27,
     "metadata": {},
     "output_type": "execute_result"
    }
   ],
   "source": [
    "sector_market_value"
   ]
  },
  {
   "cell_type": "markdown",
   "metadata": {},
   "source": []
  },
  {
   "cell_type": "code",
   "execution_count": 42,
   "metadata": {},
   "outputs": [
    {
     "name": "stderr",
     "output_type": "stream",
     "text": [
      "/tmp/ipykernel_17559/497670689.py:24: FutureWarning: Series.__getitem__ treating keys as positions is deprecated. In a future version, integer keys will always be treated as labels (consistent with DataFrame behavior). To access a value by position, use `ser.iloc[pos]`\n",
      "  pct_value = sector_market_value[i] / sum(sector_market_value) * 100\n"
     ]
    },
    {
     "data": {
      "image/png": "[encoded data removed]",
      "text/plain": [
       "<Figure size 800x600 with 1 Axes>"
      ]
     },
     "metadata": {},
     "output_type": "display_data"
    }
   ],
   "source": [
    "plt.figure(figsize=(8, 6))\n",
    "def custom_autopct(pct):\n",
    "    return ('%.1f%%' % pct) if pct >= 4 else ''\n",
    "wedges, texts, autotexts = plt.pie(sector_market_value, autopct=custom_autopct, startangle=90)\n",
    "\n",
    "total = sum(sector_market_value)\n",
    "percentages = [value / total * 100 for value in sector_market_value]\n",
    "\n",
    "# Create custom labels for the legend\n",
    "legend_labels = []\n",
    "\n",
    "# Create legend labels using a for loop\n",
    "for i in range(len(sector_market_value.index)):\n",
    "    name = sector_market_value.index[i]\n",
    "    pct = percentages[i]\n",
    "    if pct <= 4:\n",
    "        legend_labels.append(f'{name}: {pct:.2f}%')\n",
    "    else:\n",
    "         legend_labels.append(f'{name}')\n",
    "\n",
    "\n",
    "# For percentages below 4%, set the labels manually to be outside the pie chart\n",
    "for i, autotext in enumerate(autotexts):\n",
    "    pct_value = sector_market_value[i] / sum(sector_market_value) * 100\n",
    "    if pct_value < 4:\n",
    "        # Move the label slightly further outside the pie slice\n",
    "        autotext.set_position((1.1, autotext.get_position()[1]))\n",
    "\n",
    "plt.title('Market Value Proportion by Sector')\n",
    "\n",
    "plt.legend(wedges, legend_labels, title=\"Sectors\", loc=\"center left\", bbox_to_anchor=(1, 0, 0.5, 1))\n",
    "\n",
    "plt.axis('equal')\n",
    "\n",
    "plt.savefig('market_value_pie_chart.pdf', format='pdf', bbox_inches='tight')\n",
    "# ')  # Equal aspect ratio ensures the pie chart is circular\n",
    "plt.show()"
   ]
  },
  {
   "cell_type": "code",
   "execution_count": 35,
   "metadata": {},
   "outputs": [
    {
     "data": {
      "text/plain": [
       "<Figure size 640x480 with 0 Axes>"
      ]
     },
     "metadata": {},
     "output_type": "display_data"
    }
   ],
   "source": []
  },
  {
   "cell_type": "code",
   "execution_count": 39,
   "metadata": {},
   "outputs": [],
   "source": [
    "HTML_TEMPLATE2 = '''\n",
    "</body>\n",
    "</html>\n",
    "'''\n",
    "with open('small-template.html', 'r', encoding='utf-8') as smallTemplate:\n",
    "    small_template = smallTemplate.read()\n",
    "with open('bob-template.html', 'r', encoding='utf-8') as smallTemplate:\n",
    "    bob_template = smallTemplate.read()\n",
    "\n",
    "def to_html_pretty(df, html_template,filename='out.html', title=''):\n",
    "\n",
    "    ht = ''\n",
    "\n",
    "    ht += df.to_html(classes='wide', escape=False, index=False)\n",
    "    if title != '':\n",
    "        ht += '<div> %s </div>\\n' % title\n",
    "\n",
    "    with open(filename, 'w', encoding='utf-8') as f:\n",
    "        f.write(html_template+ ht + HTML_TEMPLATE2)\n",
    "\n",
    "# Pretty print the dataframe as an html table to a file\n",
    "intermediate_html = 'intermediate.html'\n",
    "\n",
    "x = datetime.datetime.now()\n",
    "title = 'Updated: ' + x.strftime('%b') + ' ' + x.strftime('%y')\n",
    "\n",
    "# Normal html:\n",
    "to_html_pretty(styled,small_template,intermediate_html, title )\n",
    "# Bob template:\n",
    "\n",
    "# if you do not want pretty printing, just use pandas:\n",
    "# result.to_html(intermediate_html)\n",
    "\n",
    "# Convert the html file to a pdf file using weasyprint\n",
    "\n",
    "out_pdf= os.path.basename(os.path.normpath('shares.csv')).replace('.csv', '') + '.pdf'\n",
    "# weasyprint.HTML(intermediate_html).write_pdf(out_pdf)\n",
    "weasyprint.HTML('intermediate.html').write_pdf('shares.pdf')\n",
    "\n",
    "\n",
    "\n",
    "\n",
    "to_html_pretty(styled,bob_template,intermediate_html, title )\n",
    "weasyprint.HTML('intermediate.html').write_pdf('bob.pdf')\n",
    "#  webbrowser.open_new_tab(\"/tmp/intermediate.html\")\n",
    "\n",
    "\n",
    "# This is the table pretty printer used above:"
   ]
  }
 ],
 "metadata": {
  "kernelspec": {
   "display_name": "venv",
   "language": "python",
   "name": "python3"
  },
  "language_info": {
   "codemirror_mode": {
    "name": "ipython",
    "version": 3
   },
   "file_extension": ".py",
   "mimetype": "text/x-python",
   "name": "python",
   "nbconvert_exporter": "python",
   "pygments_lexer": "ipython3",
   "version": "3.12.7"
  }
 },
 "nbformat": 4,
 "nbformat_minor": 2
}
